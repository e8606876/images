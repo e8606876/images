{
  "nbformat": 4,
  "nbformat_minor": 0,
  "metadata": {
    "colab": {
      "name": "CNN-LeNet.ipynb",
      "provenance": [],
      "collapsed_sections": [],
      "toc_visible": true,
      "include_colab_link": true
    },
    "kernelspec": {
      "name": "python3",
      "display_name": "Python 3"
    }
  },
  "cells": [
    {
      "cell_type": "markdown",
      "metadata": {
        "id": "view-in-github",
        "colab_type": "text"
      },
      "source": [
        "<a href=\"https://colab.research.google.com/github/e8606876/images/blob/main/CNN_LeNet.ipynb\" target=\"_parent\"><img src=\"https://colab.research.google.com/assets/colab-badge.svg\" alt=\"Open In Colab\"/></a>"
      ]
    },
    {
      "cell_type": "markdown",
      "metadata": {
        "id": "QX0AcwG0QMUk"
      },
      "source": [
        "# PreProcessing"
      ]
    },
    {
      "cell_type": "code",
      "metadata": {
        "colab": {
          "base_uri": "https://localhost:8080/"
        },
        "id": "U-dFDHlSjnT1",
        "outputId": "b972d3a5-2bfd-4cd0-88de-c579bcbf46c4"
      },
      "source": [
        "!python --version\n",
        "\n",
        "import os\n",
        "\n",
        "import argparse\n",
        "import csv\n",
        "import datetime\n",
        "import glob\n",
        "import math\n",
        "import sys\n",
        "import time\n",
        "import numpy as np\n",
        "\n",
        "from PIL import Image\n",
        "from theano import config\n",
        "from sklearn.metrics import accuracy_score\n",
        "\n",
        "import matplotlib.pyplot as plt\n",
        "\n",
        "import keras\n",
        "from keras.models import Sequential\n",
        "from keras.layers import Convolution2D, MaxPooling2D, Dense, Dropout, Activation, Flatten\n",
        "from keras.layers.normalization import BatchNormalization\n",
        "\n",
        "np.random.seed(1) # we initialize a random seed here to make the experiments repeatable with same results"
      ],
      "execution_count": null,
      "outputs": [
        {
          "output_type": "stream",
          "text": [
            "Python 3.6.9\n"
          ],
          "name": "stdout"
        }
      ]
    },
    {
      "cell_type": "code",
      "metadata": {
        "id": "kNzyUU5woPsZ"
      },
      "source": [
        "# copied from DeepLearning_Tutorial\r\n",
        "def resize_and_crop(img,target_width=224,target_height=224):\r\n",
        "    width, height = img.size\r\n",
        "\r\n",
        "    img_ratio = width / float(height)\r\n",
        "    target_ratio = target_width / float(target_height)\r\n",
        "\r\n",
        "    # 1) compare ratios and resize the larger side proportional to the target of the smaller side\r\n",
        "    new_width, new_height = (target_width, target_height)\r\n",
        "\r\n",
        "    if target_ratio > img_ratio:\r\n",
        "        new_height = int(round(height * (target_width / float(width))))\r\n",
        "    else:\r\n",
        "        new_width = int(round(width * (target_height / float(height))))\r\n",
        "\r\n",
        "    img_new = img.resize((new_width, new_height), Image.ANTIALIAS)\r\n",
        "\r\n",
        "    # 2) crop to target size\r\n",
        "    # offset to half of the remaining padding (one of them is 0)\r\n",
        "    width_offset  = (new_width - target_width) / 2\r\n",
        "    height_offset = (new_height - target_height) / 2\r\n",
        "\r\n",
        "    # crop with offsets\r\n",
        "    img_new = img_new.crop((width_offset, height_offset, width_offset+target_width, height_offset+target_height))\r\n",
        "    #  The box is a 4-tuple defining the left, upper, right, and lower pixel coordinate.\r\n",
        "    return img_new"
      ],
      "execution_count": null,
      "outputs": []
    },
    {
      "cell_type": "code",
      "metadata": {
        "colab": {
          "base_uri": "https://localhost:8080/"
        },
        "id": "PJDINdnshbuj",
        "outputId": "632d3f34-05cf-4890-deec-23f594e4f08e"
      },
      "source": [
        "!ls"
      ],
      "execution_count": null,
      "outputs": [
        {
          "output_type": "stream",
          "text": [
            "sample_data  yalefaces\tyalefaces.zip\n"
          ],
          "name": "stdout"
        }
      ]
    },
    {
      "cell_type": "code",
      "metadata": {
        "id": "wjpw_SNFj0K_",
        "colab": {
          "base_uri": "https://localhost:8080/"
        },
        "outputId": "e000e232-c37a-4a37-9b1c-33fc6e16f464"
      },
      "source": [
        "!curl -LJO https://github.com/e8606876/images/raw/main/yalefaces.zip"
      ],
      "execution_count": null,
      "outputs": [
        {
          "output_type": "stream",
          "text": [
            "  % Total    % Received % Xferd  Average Speed   Time    Time     Time  Current\n",
            "                                 Dload  Upload   Total   Spent    Left  Speed\n",
            "100   134  100   134    0     0   2977      0 --:--:-- --:--:-- --:--:--  2977\n",
            "100 6035k  100 6035k    0     0  19.2M      0 --:--:-- --:--:-- --:--:-- 19.2M\n"
          ],
          "name": "stdout"
        }
      ]
    },
    {
      "cell_type": "code",
      "metadata": {
        "id": "c5Hlt7XfhMpj"
      },
      "source": [
        "!unzip -d . yalefaces.zip "
      ],
      "execution_count": null,
      "outputs": []
    },
    {
      "cell_type": "markdown",
      "metadata": {
        "id": "rx3EQsJlj0a4"
      },
      "source": [
        "**Load the Images from Training Set**"
      ]
    },
    {
      "cell_type": "code",
      "metadata": {
        "colab": {
          "base_uri": "https://localhost:8080/"
        },
        "id": "x8NWqW18b4ur",
        "outputId": "5eb65968-910c-4660-d65a-98ba228fd6f3"
      },
      "source": [
        "path = 'yalefaces/TrainImages'\r\n",
        "files = glob.glob(os.path.join(path, '*.*'))\r\n",
        "print(\"Found\", len(files), \"files\")"
      ],
      "execution_count": null,
      "outputs": [
        {
          "output_type": "stream",
          "text": [
            "Found 154 files\n"
          ],
          "name": "stdout"
        }
      ]
    },
    {
      "cell_type": "code",
      "metadata": {
        "id": "uygYe4bfj1V3"
      },
      "source": [
        "\n",
        "images = []\n",
        "image_names = []\n",
        "\n",
        "for filename in files:\n",
        "    image_names.append(os.path.basename(filename))\n",
        "    with Image.open(filename) as img:\n",
        "        img_resized = resize_and_crop(img,target_width=32,target_height=32)\n",
        "        images.append(np.array(img_resized))"
      ],
      "execution_count": null,
      "outputs": []
    },
    {
      "cell_type": "code",
      "metadata": {
        "colab": {
          "base_uri": "https://localhost:8080/"
        },
        "id": "wjJSD_5EZK6C",
        "outputId": "adc2edd7-0098-498a-a1ee-61a1dc34f75c"
      },
      "source": [
        "images[1]"
      ],
      "execution_count": null,
      "outputs": [
        {
          "output_type": "execute_result",
          "data": {
            "text/plain": [
              "array([[242, 242, 242, ..., 255, 255, 255],\n",
              "       [255, 254, 255, ..., 255, 255, 254],\n",
              "       [248, 255, 255, ..., 255, 254, 253],\n",
              "       ...,\n",
              "       [198, 188,  61, ..., 236, 241, 250],\n",
              "       [206,  62,   0, ..., 229, 241, 246],\n",
              "       [155,  11,   9, ..., 204, 213, 222]], dtype=uint8)"
            ]
          },
          "metadata": {
            "tags": []
          },
          "execution_count": 31
        }
      ]
    },
    {
      "cell_type": "code",
      "metadata": {
        "id": "u-pskdjE_Tqh",
        "colab": {
          "base_uri": "https://localhost:8080/",
          "height": 66
        },
        "outputId": "9a2801f4-69af-4519-f989-fb18f960979c"
      },
      "source": [
        "# show a selected image to check\n",
        "i=0\n",
        "print(image_names[i])\n",
        "Image.fromarray(images[i])"
      ],
      "execution_count": null,
      "outputs": [
        {
          "output_type": "stream",
          "text": [
            "subject14.happy\n"
          ],
          "name": "stdout"
        },
        {
          "output_type": "execute_result",
          "data": {
            "image/png": "[encoded data removed]",
            "text/plain": [
              "<PIL.Image.Image image mode=L size=32x32 at 0x7F7F36F5D400>"
            ]
          },
          "metadata": {
            "tags": []
          },
          "execution_count": 77
        }
      ]
    },
    {
      "cell_type": "code",
      "metadata": {
        "colab": {
          "base_uri": "https://localhost:8080/"
        },
        "id": "eiEWeLTiCTOF",
        "outputId": "5f58ab7d-b97a-4abf-ac69-f0ec172e9754"
      },
      "source": [
        "# a list of many 32x32 images is made into 1 big array\n",
        "img_array = np.array(images, dtype=config.floatX)\n",
        "img_array.shape"
      ],
      "execution_count": null,
      "outputs": [
        {
          "output_type": "execute_result",
          "data": {
            "text/plain": [
              "(154, 32, 32)"
            ]
          },
          "metadata": {
            "tags": []
          },
          "execution_count": 33
        }
      ]
    },
    {
      "cell_type": "markdown",
      "metadata": {
        "id": "wIjFp2n_FntX"
      },
      "source": [
        "**Create the Groundtruth based on filenames**"
      ]
    },
    {
      "cell_type": "code",
      "metadata": {
        "id": "v4QxUVS7FKTB"
      },
      "source": [
        "classes = []\n",
        "for name in image_names:\n",
        "    if name.endswith('centerlight'):\n",
        "        classes.append(1)\n",
        "    if name.endswith('.glasses'):\n",
        "        classes.append(2)\n",
        "    if name.endswith('happy'):\n",
        "        classes.append(3)\n",
        "    if name.endswith('leftlight'):\n",
        "        classes.append(4)\n",
        "    if name.endswith('noglasses'):\n",
        "        classes.append(5)\n",
        "    if name.endswith('normal'):\n",
        "        classes.append(6)\n",
        "    if name.endswith('rightlight'):\n",
        "        classes.append(7)\n",
        "    if name.endswith('sad'):\n",
        "        classes.append(8)\n",
        "    if name.endswith('sleepy'):\n",
        "        classes.append(9)\n",
        "    if name.endswith('surprised'):\n",
        "        classes.append(10)\n",
        "    if name.endswith('wink'):\n",
        "        classes.append(11)\n"
      ],
      "execution_count": null,
      "outputs": []
    },
    {
      "cell_type": "code",
      "metadata": {
        "id": "hZTqLASKFKZP",
        "colab": {
          "base_uri": "https://localhost:8080/"
        },
        "outputId": "54a6d472-7735-4c68-8a6c-3495cfddb8fe"
      },
      "source": [
        "print(classes)"
      ],
      "execution_count": null,
      "outputs": [
        {
          "output_type": "stream",
          "text": [
            "[3, 10, 5, 10, 8, 6, 4, 1, 5, 3, 9, 2, 1, 7, 10, 9, 2, 5, 7, 1, 1, 2, 6, 7, 1, 5, 7, 5, 11, 9, 11, 4, 11, 10, 9, 5, 7, 2, 9, 5, 8, 11, 10, 11, 7, 9, 2, 10, 2, 1, 5, 10, 6, 9, 1, 3, 4, 8, 6, 2, 7, 6, 7, 10, 3, 6, 9, 10, 2, 3, 4, 5, 7, 10, 4, 11, 11, 8, 8, 6, 7, 1, 5, 4, 4, 6, 3, 2, 10, 6, 8, 8, 8, 4, 7, 5, 8, 8, 6, 11, 3, 4, 7, 3, 4, 9, 3, 9, 4, 11, 11, 3, 9, 7, 5, 2, 1, 2, 3, 6, 1, 9, 10, 2, 3, 2, 8, 8, 4, 6, 10, 8, 10, 4, 11, 11, 6, 7, 1, 1, 2, 9, 5, 11, 3, 4, 5, 9, 1, 8, 1, 11, 6, 3]\n"
          ],
          "name": "stdout"
        }
      ]
    },
    {
      "cell_type": "code",
      "metadata": {
        "id": "RQnMstfyounl"
      },
      "source": [
        ""
      ],
      "execution_count": null,
      "outputs": []
    },
    {
      "cell_type": "code",
      "metadata": {
        "colab": {
          "base_uri": "https://localhost:8080/"
        },
        "id": "A0y6aRdKFKc5",
        "outputId": "dad89a61-37d0-4301-e29f-a004afd73964"
      },
      "source": [
        "print(\"Groundtruth Statistics:\")\n",
        "for v in set(classes):\n",
        "    print(\"Class\", v, \":\", classes.count(v))\n",
        "\n",
        "baseline = 14 * 1.0 / len(classes)\n",
        "print('baseline = ' + str(baseline))"
      ],
      "execution_count": null,
      "outputs": [
        {
          "output_type": "stream",
          "text": [
            "Groundtruth Statistics:\n",
            "Class 1 : 14\n",
            "Class 2 : 14\n",
            "Class 3 : 14\n",
            "Class 4 : 14\n",
            "Class 5 : 14\n",
            "Class 6 : 14\n",
            "Class 7 : 14\n",
            "Class 8 : 14\n",
            "Class 9 : 14\n",
            "Class 10 : 14\n",
            "Class 11 : 14\n",
            "baseline = 0.09090909090909091\n"
          ],
          "name": "stdout"
        }
      ]
    },
    {
      "cell_type": "code",
      "metadata": {
        "id": "4O95VIeho9nY"
      },
      "source": [
        "classes = np.asarray(classes)"
      ],
      "execution_count": null,
      "outputs": []
    },
    {
      "cell_type": "markdown",
      "metadata": {
        "id": "3XpeLA-7J5T7"
      },
      "source": [
        "**Standardization**"
      ]
    },
    {
      "cell_type": "code",
      "metadata": {
        "colab": {
          "base_uri": "https://localhost:8080/"
        },
        "id": "iLmLWvwXFKmp",
        "outputId": "35e8facb-0a05-44a3-94fa-cac5d3e9cb56"
      },
      "source": [
        "mean = img_array.mean()\n",
        "stddev = img_array.std()\n",
        "mean, stddev"
      ],
      "execution_count": null,
      "outputs": [
        {
          "output_type": "execute_result",
          "data": {
            "text/plain": [
              "(158.21215503246754, 94.77733358792085)"
            ]
          },
          "metadata": {
            "tags": []
          },
          "execution_count": 38
        }
      ]
    },
    {
      "cell_type": "code",
      "metadata": {
        "colab": {
          "base_uri": "https://localhost:8080/"
        },
        "id": "Jupi3KshFKqJ",
        "outputId": "902986b7-59d3-495f-c0bf-9279cfa26f24"
      },
      "source": [
        "img_array = (img_array - mean) / stddev\n",
        "img_array.mean(), img_array.std()"
      ],
      "execution_count": null,
      "outputs": [
        {
          "output_type": "execute_result",
          "data": {
            "text/plain": [
              "(-5.0464682937507114e-17, 1.0)"
            ]
          },
          "metadata": {
            "tags": []
          },
          "execution_count": 39
        }
      ]
    },
    {
      "cell_type": "code",
      "metadata": {
        "colab": {
          "base_uri": "https://localhost:8080/"
        },
        "id": "T8c6hXBfKSYz",
        "outputId": "ae22b288-425f-4421-bb89-cf7b7ac1de67"
      },
      "source": [
        "img_array.min(), img_array.max()"
      ],
      "execution_count": null,
      "outputs": [
        {
          "output_type": "execute_result",
          "data": {
            "text/plain": [
              "(-1.6693037147505414, 1.0212129979131197)"
            ]
          },
          "metadata": {
            "tags": []
          },
          "execution_count": 40
        }
      ]
    },
    {
      "cell_type": "markdown",
      "metadata": {
        "id": "Dq2eqTB_NA_U"
      },
      "source": [
        "**Prepare test data**"
      ]
    },
    {
      "cell_type": "code",
      "metadata": {
        "colab": {
          "base_uri": "https://localhost:8080/"
        },
        "id": "20wSczMCNAEp",
        "outputId": "fcc30e27-d428-4e1a-cbae-b3aadfd7c0ed"
      },
      "source": [
        "path = 'yalefaces/TestImages'\n",
        "files = glob.glob(os.path.join(path, '*.*'))\n",
        "print(\"Found\", len(files), \"files\")"
      ],
      "execution_count": null,
      "outputs": [
        {
          "output_type": "stream",
          "text": [
            "Found 11 files\n"
          ],
          "name": "stdout"
        }
      ]
    },
    {
      "cell_type": "code",
      "metadata": {
        "id": "vsLS19d-NAHy"
      },
      "source": [
        "test_images = []\n",
        "test_image_names = []\n",
        "\n",
        "for filename in files:\n",
        "    test_image_names.append(os.path.basename(filename))\n",
        "    with Image.open(filename) as img:\n",
        "        img_resized = resize_and_crop(img,target_width=32,target_height=32)\n",
        "        test_images.append(np.array(img_resized))"
      ],
      "execution_count": null,
      "outputs": []
    },
    {
      "cell_type": "code",
      "metadata": {
        "id": "ZqdHju-9NALR",
        "colab": {
          "base_uri": "https://localhost:8080/",
          "height": 66
        },
        "outputId": "81f068c3-87d5-4399-faa1-b875a30629e8"
      },
      "source": [
        "i=2\n",
        "print(test_image_names[i])\n",
        "Image.fromarray(test_images[i])"
      ],
      "execution_count": null,
      "outputs": [
        {
          "output_type": "stream",
          "text": [
            "subject01.leftlight\n"
          ],
          "name": "stdout"
        },
        {
          "output_type": "execute_result",
          "data": {
            "image/png": "[encoded data removed]",
            "text/plain": [
              "<PIL.Image.Image image mode=L size=32x32 at 0x7F7F4084E4E0>"
            ]
          },
          "metadata": {
            "tags": []
          },
          "execution_count": 43
        }
      ]
    },
    {
      "cell_type": "code",
      "metadata": {
        "colab": {
          "base_uri": "https://localhost:8080/"
        },
        "id": "k2R_b2FbO1jm",
        "outputId": "71ad092f-7da3-4a09-a580-73234b579981"
      },
      "source": [
        "# a list of many 243x320 images is made into 1 big array\n",
        "test_images = np.array(test_images)\n",
        "test_images.shape"
      ],
      "execution_count": null,
      "outputs": [
        {
          "output_type": "execute_result",
          "data": {
            "text/plain": [
              "(11, 32, 32)"
            ]
          },
          "metadata": {
            "tags": []
          },
          "execution_count": 44
        }
      ]
    },
    {
      "cell_type": "code",
      "metadata": {
        "id": "4N9h6-vDO1mQ"
      },
      "source": [
        "test_classes = []\n",
        "for name in test_image_names:\n",
        "    if name.endswith('centerlight'):\n",
        "        test_classes.append(1)\n",
        "    if name.endswith('.glasses'):\n",
        "        test_classes.append(2)\n",
        "    if name.endswith('happy'):\n",
        "        test_classes.append(3)\n",
        "    if name.endswith('leftlight'):\n",
        "        test_classes.append(4)\n",
        "    if name.endswith('noglasses'):\n",
        "        test_classes.append(5)\n",
        "    if name.endswith('normal'):\n",
        "        test_classes.append(6)\n",
        "    if name.endswith('rightlight'):\n",
        "        test_classes.append(7)\n",
        "    if name.endswith('sad'):\n",
        "        test_classes.append(8)\n",
        "    if name.endswith('sleepy'):\n",
        "        test_classes.append(9)\n",
        "    if name.endswith('surprised'):\n",
        "        test_classes.append(10)\n",
        "    if name.endswith('wink'):\n",
        "        test_classes.append(11)"
      ],
      "execution_count": null,
      "outputs": []
    },
    {
      "cell_type": "code",
      "metadata": {
        "id": "4nPlFNCaO1pS",
        "colab": {
          "base_uri": "https://localhost:8080/"
        },
        "outputId": "fead50cb-2ba9-450f-fbc3-9f29e15089c3"
      },
      "source": [
        "test_classes = np.asarray(test_classes)\r\n",
        "print(test_classes)"
      ],
      "execution_count": null,
      "outputs": [
        {
          "output_type": "stream",
          "text": [
            "[ 7  3  4  2  6 11 10  1  5  8  9]\n"
          ],
          "name": "stdout"
        }
      ]
    },
    {
      "cell_type": "code",
      "metadata": {
        "colab": {
          "base_uri": "https://localhost:8080/"
        },
        "id": "doyIvV0SO1sQ",
        "outputId": "81810937-58ba-485e-9f43-98322fc41364"
      },
      "source": [
        "test_images.mean(), test_images.std()"
      ],
      "execution_count": null,
      "outputs": [
        {
          "output_type": "execute_result",
          "data": {
            "text/plain": [
              "(169.59011008522728, 81.84364127645134)"
            ]
          },
          "metadata": {
            "tags": []
          },
          "execution_count": 47
        }
      ]
    },
    {
      "cell_type": "code",
      "metadata": {
        "id": "4VXR36JkO1u3"
      },
      "source": [
        "test_images = (test_images - mean) / stddev"
      ],
      "execution_count": null,
      "outputs": []
    },
    {
      "cell_type": "code",
      "metadata": {
        "colab": {
          "base_uri": "https://localhost:8080/"
        },
        "id": "vr9nPITMO1x3",
        "outputId": "67611931-642a-489e-9932-65751c24c1af"
      },
      "source": [
        "test_images.mean(), test_images.std()"
      ],
      "execution_count": null,
      "outputs": [
        {
          "output_type": "execute_result",
          "data": {
            "text/plain": [
              "(0.12004932637406279, 0.8635360183511441)"
            ]
          },
          "metadata": {
            "tags": []
          },
          "execution_count": 49
        }
      ]
    },
    {
      "cell_type": "markdown",
      "metadata": {
        "id": "dJTYjEl1LDDb"
      },
      "source": [
        "# Creating NN Models in Keras"
      ]
    },
    {
      "cell_type": "code",
      "metadata": {
        "id": "fgbNrxzYKSet"
      },
      "source": [
        "n_channels = 1 # for grey-scale, 3 for RGB, but usually already present in the data\n",
        "\n",
        "### JG: if keras.backend.image_dim_ordering() == 'th':\n",
        "if keras.backend.image_data_format == 'th':\n",
        "    \n",
        "    # Theano ordering (~/.keras/keras.json: \"image_dim_ordering\": \"th\")\n",
        "    train_img = img_array.reshape(img_array.shape[0], n_channels, img_array.shape[1], img_array.shape[2])\n",
        "    test_img = test_images.reshape(test_images.shape[0], n_channels, test_images.shape[1], test_images.shape[2])\n",
        "else:\n",
        "    # Tensorflow ordering (~/.keras/keras.json: \"image_dim_ordering\": \"tf\")\n",
        "    train_img = img_array.reshape(img_array.shape[0], img_array.shape[1], img_array.shape[2], n_channels)\n",
        "    test_img = test_images.reshape(test_images.shape[0], test_images.shape[1], test_images.shape[2], n_channels)"
      ],
      "execution_count": null,
      "outputs": []
    },
    {
      "cell_type": "code",
      "metadata": {
        "colab": {
          "base_uri": "https://localhost:8080/"
        },
        "id": "soSFALK6KSiK",
        "outputId": "f23e17f1-e6a6-4897-86cb-f84394e3c58c"
      },
      "source": [
        "print(img_array.shape)\n",
        "print(train_img.shape)\n",
        "print(test_images.shape)\n",
        "print(test_img.shape)"
      ],
      "execution_count": null,
      "outputs": [
        {
          "output_type": "stream",
          "text": [
            "(154, 32, 32)\n",
            "(154, 32, 32, 1)\n",
            "(11, 32, 32)\n",
            "(11, 32, 32, 1)\n"
          ],
          "name": "stdout"
        }
      ]
    },
    {
      "cell_type": "code",
      "metadata": {
        "id": "qQKmg7t_KSo0"
      },
      "source": [
        "def build_lenet(width, height, depth, classes):\r\n",
        "    # Initialize the model\r\n",
        "    model = Sequential()\r\n",
        "\r\n",
        "    # The first set of CONV => RELU => POOL layers\r\n",
        "    model.add(Convolution2D(20, (5, 5), padding=\"same\",\r\n",
        "                     input_shape=(height, width, depth)))\r\n",
        "    model.add(Activation(\"relu\"))\r\n",
        "    model.add(MaxPooling2D(pool_size=(2, 2), strides=(2, 2)))\r\n",
        "\r\n",
        "    # The second set of CONV => RELU => POOL layers\r\n",
        "    model.add(Convolution2D(50, (5, 5), padding=\"same\"))\r\n",
        "    model.add(Activation(\"relu\"))\r\n",
        "    model.add(MaxPooling2D(pool_size=(2, 2), strides=(2, 2)))\r\n",
        "\r\n",
        "    # The set of FC => RELU layers\r\n",
        "    model.add(Flatten())\r\n",
        "    model.add(Dense(500))\r\n",
        "    model.add(Activation(\"relu\"))\r\n",
        "\r\n",
        "    # The softmax classifier\r\n",
        "    model.add(Dense(classes))\r\n",
        "    model.add(Activation(\"softmax\"))\r\n",
        "\r\n",
        "    # Return the constructed network architecture\r\n",
        "    return model"
      ],
      "execution_count": null,
      "outputs": []
    },
    {
      "cell_type": "code",
      "metadata": {
        "id": "vzIx5OXsKSrt",
        "colab": {
          "base_uri": "https://localhost:8080/"
        },
        "outputId": "f46a8cc9-77f0-42d0-d18c-4df8b4cffe74"
      },
      "source": [
        "model = build_lenet(32, 32, 1, 12)\r\n",
        "model.summary()"
      ],
      "execution_count": null,
      "outputs": [
        {
          "output_type": "stream",
          "text": [
            "Model: \"sequential_3\"\n",
            "_________________________________________________________________\n",
            "Layer (type)                 Output Shape              Param #   \n",
            "=================================================================\n",
            "conv2d_6 (Conv2D)            (None, 32, 32, 20)        520       \n",
            "_________________________________________________________________\n",
            "activation_12 (Activation)   (None, 32, 32, 20)        0         \n",
            "_________________________________________________________________\n",
            "max_pooling2d_6 (MaxPooling2 (None, 16, 16, 20)        0         \n",
            "_________________________________________________________________\n",
            "conv2d_7 (Conv2D)            (None, 16, 16, 50)        25050     \n",
            "_________________________________________________________________\n",
            "activation_13 (Activation)   (None, 16, 16, 50)        0         \n",
            "_________________________________________________________________\n",
            "max_pooling2d_7 (MaxPooling2 (None, 8, 8, 50)          0         \n",
            "_________________________________________________________________\n",
            "flatten_3 (Flatten)          (None, 3200)              0         \n",
            "_________________________________________________________________\n",
            "dense_6 (Dense)              (None, 500)               1600500   \n",
            "_________________________________________________________________\n",
            "activation_14 (Activation)   (None, 500)               0         \n",
            "_________________________________________________________________\n",
            "dense_7 (Dense)              (None, 12)                6012      \n",
            "_________________________________________________________________\n",
            "activation_15 (Activation)   (None, 12)                0         \n",
            "=================================================================\n",
            "Total params: 1,632,082\n",
            "Trainable params: 1,632,082\n",
            "Non-trainable params: 0\n",
            "_________________________________________________________________\n"
          ],
          "name": "stdout"
        }
      ]
    },
    {
      "cell_type": "code",
      "metadata": {
        "id": "lWCH3c-GszMQ"
      },
      "source": [
        "opt = 'sgd'\r\n",
        "model.compile(loss=\"sparse_categorical_crossentropy\",\r\n",
        "              optimizer=opt, metrics=[\"accuracy\"])"
      ],
      "execution_count": null,
      "outputs": []
    },
    {
      "cell_type": "code",
      "metadata": {
        "colab": {
          "base_uri": "https://localhost:8080/"
        },
        "id": "SmIiTCdUszO7",
        "outputId": "48aa93a1-73a7-4caf-dcec-cce384aebde8"
      },
      "source": [
        "# TRAINING the model\r\n",
        "history = model.fit(train_img, classes,\r\n",
        "                       batch_size=32,\r\n",
        "                       epochs=30,\r\n",
        "                       validation_data=(test_img, test_classes),\r\n",
        "                       verbose=1)"
      ],
      "execution_count": null,
      "outputs": [
        {
          "output_type": "stream",
          "text": [
            "Epoch 1/30\n",
            "5/5 [==============================] - 1s 122ms/step - loss: 2.4879 - accuracy: 0.0919 - val_loss: 2.4500 - val_accuracy: 0.0909\n",
            "Epoch 2/30\n",
            "5/5 [==============================] - 0s 76ms/step - loss: 2.4616 - accuracy: 0.1266 - val_loss: 2.4234 - val_accuracy: 0.2727\n",
            "Epoch 3/30\n",
            "5/5 [==============================] - 0s 76ms/step - loss: 2.4329 - accuracy: 0.1583 - val_loss: 2.4023 - val_accuracy: 0.2727\n",
            "Epoch 4/30\n",
            "5/5 [==============================] - 0s 77ms/step - loss: 2.4071 - accuracy: 0.2116 - val_loss: 2.3833 - val_accuracy: 0.2727\n",
            "Epoch 5/30\n",
            "5/5 [==============================] - 0s 79ms/step - loss: 2.3906 - accuracy: 0.2789 - val_loss: 2.3629 - val_accuracy: 0.2727\n",
            "Epoch 6/30\n",
            "5/5 [==============================] - 0s 78ms/step - loss: 2.3774 - accuracy: 0.2416 - val_loss: 2.3401 - val_accuracy: 0.2727\n",
            "Epoch 7/30\n",
            "5/5 [==============================] - 0s 77ms/step - loss: 2.3480 - accuracy: 0.2411 - val_loss: 2.3180 - val_accuracy: 0.2727\n",
            "Epoch 8/30\n",
            "5/5 [==============================] - 0s 82ms/step - loss: 2.3335 - accuracy: 0.2468 - val_loss: 2.2935 - val_accuracy: 0.2727\n",
            "Epoch 9/30\n",
            "5/5 [==============================] - 0s 77ms/step - loss: 2.3185 - accuracy: 0.2676 - val_loss: 2.2634 - val_accuracy: 0.2727\n",
            "Epoch 10/30\n",
            "5/5 [==============================] - 0s 77ms/step - loss: 2.2817 - accuracy: 0.2437 - val_loss: 2.2338 - val_accuracy: 0.2727\n",
            "Epoch 11/30\n",
            "5/5 [==============================] - 0s 79ms/step - loss: 2.2542 - accuracy: 0.2966 - val_loss: 2.2007 - val_accuracy: 0.2727\n",
            "Epoch 12/30\n",
            "5/5 [==============================] - 1s 115ms/step - loss: 2.2419 - accuracy: 0.2606 - val_loss: 2.1672 - val_accuracy: 0.2727\n",
            "Epoch 13/30\n",
            "5/5 [==============================] - 0s 79ms/step - loss: 2.2361 - accuracy: 0.2558 - val_loss: 2.1199 - val_accuracy: 0.2727\n",
            "Epoch 14/30\n",
            "5/5 [==============================] - 0s 77ms/step - loss: 2.2531 - accuracy: 0.1673 - val_loss: 2.0781 - val_accuracy: 0.2727\n",
            "Epoch 15/30\n",
            "5/5 [==============================] - 0s 80ms/step - loss: 2.1768 - accuracy: 0.2454 - val_loss: 2.0438 - val_accuracy: 0.2727\n",
            "Epoch 16/30\n",
            "5/5 [==============================] - 0s 80ms/step - loss: 2.1211 - accuracy: 0.2372 - val_loss: 2.0164 - val_accuracy: 0.2727\n",
            "Epoch 17/30\n",
            "5/5 [==============================] - 0s 78ms/step - loss: 2.1451 - accuracy: 0.2749 - val_loss: 1.9710 - val_accuracy: 0.3636\n",
            "Epoch 18/30\n",
            "5/5 [==============================] - 0s 79ms/step - loss: 2.0557 - accuracy: 0.2598 - val_loss: 1.9597 - val_accuracy: 0.2727\n",
            "Epoch 19/30\n",
            "5/5 [==============================] - 0s 77ms/step - loss: 2.0460 - accuracy: 0.2559 - val_loss: 1.9225 - val_accuracy: 0.2727\n",
            "Epoch 20/30\n",
            "5/5 [==============================] - 0s 77ms/step - loss: 2.0996 - accuracy: 0.2584 - val_loss: 1.8888 - val_accuracy: 0.2727\n",
            "Epoch 21/30\n",
            "5/5 [==============================] - 0s 78ms/step - loss: 2.0231 - accuracy: 0.2931 - val_loss: 1.8944 - val_accuracy: 0.3636\n",
            "Epoch 22/30\n",
            "5/5 [==============================] - 0s 79ms/step - loss: 1.9705 - accuracy: 0.3292 - val_loss: 1.8665 - val_accuracy: 0.2727\n",
            "Epoch 23/30\n",
            "5/5 [==============================] - 0s 80ms/step - loss: 1.9864 - accuracy: 0.2697 - val_loss: 1.8503 - val_accuracy: 0.2727\n",
            "Epoch 24/30\n",
            "5/5 [==============================] - 0s 80ms/step - loss: 1.9727 - accuracy: 0.3387 - val_loss: 1.8457 - val_accuracy: 0.2727\n",
            "Epoch 25/30\n",
            "5/5 [==============================] - 0s 76ms/step - loss: 1.9466 - accuracy: 0.3287 - val_loss: 1.8393 - val_accuracy: 0.2727\n",
            "Epoch 26/30\n",
            "5/5 [==============================] - 0s 78ms/step - loss: 1.8950 - accuracy: 0.3457 - val_loss: 1.8117 - val_accuracy: 0.4545\n",
            "Epoch 27/30\n",
            "5/5 [==============================] - 0s 75ms/step - loss: 1.8986 - accuracy: 0.3131 - val_loss: 1.8165 - val_accuracy: 0.3636\n",
            "Epoch 28/30\n",
            "5/5 [==============================] - 0s 79ms/step - loss: 1.8773 - accuracy: 0.2901 - val_loss: 1.8188 - val_accuracy: 0.2727\n",
            "Epoch 29/30\n",
            "5/5 [==============================] - 0s 78ms/step - loss: 1.8566 - accuracy: 0.3500 - val_loss: 1.8032 - val_accuracy: 0.3636\n",
            "Epoch 30/30\n",
            "5/5 [==============================] - 0s 78ms/step - loss: 1.8537 - accuracy: 0.3782 - val_loss: 1.7931 - val_accuracy: 0.3636\n"
          ],
          "name": "stdout"
        }
      ]
    },
    {
      "cell_type": "code",
      "metadata": {
        "id": "c8vCD1N5szSF"
      },
      "source": [
        ""
      ],
      "execution_count": null,
      "outputs": []
    },
    {
      "cell_type": "code",
      "metadata": {
        "id": "JkE10v6WszUs"
      },
      "source": [
        ""
      ],
      "execution_count": null,
      "outputs": []
    },
    {
      "cell_type": "markdown",
      "metadata": {
        "id": "yW1mF9bWqR0q"
      },
      "source": [
        "**Visualization**"
      ]
    },
    {
      "cell_type": "code",
      "metadata": {
        "id": "DxQw5jSXszXv"
      },
      "source": [
        ""
      ],
      "execution_count": null,
      "outputs": []
    },
    {
      "cell_type": "code",
      "metadata": {
        "id": "cLqYV_myszad"
      },
      "source": [
        "def graph_training_history(history):\r\n",
        "    plt.figure(1, constrained_layout=True)\r\n",
        "\r\n",
        "    # summarize history for accuracy\r\n",
        "\r\n",
        "    #plt.subplot(211)\r\n",
        "    plt.plot(history.history['accuracy'])\r\n",
        "    plt.plot(history.history['val_accuracy'])\r\n",
        "    plt.title('model accuracy')\r\n",
        "    plt.ylabel('accuracy')\r\n",
        "    plt.xlabel('epoch')\r\n",
        "    plt.legend(['train', 'test'], loc='upper left')\r\n",
        "\r\n",
        "\r\n",
        "    plt.show()\r\n",
        "    # summarize history for loss\r\n",
        "\r\n",
        "    #plt.subplot(222)\r\n",
        "    plt.plot(history.history['loss'])\r\n",
        "    plt.plot(history.history['val_loss'])\r\n",
        "    plt.title('model loss')\r\n",
        "    plt.ylabel('loss')\r\n",
        "    plt.xlabel('epoch')\r\n",
        "    plt.legend(['train', 'test'], loc='upper left')\r\n",
        "\r\n",
        "    plt.show()"
      ],
      "execution_count": null,
      "outputs": []
    },
    {
      "cell_type": "code",
      "metadata": {
        "id": "YtkyxS2Eszdc",
        "colab": {
          "base_uri": "https://localhost:8080/",
          "height": 591
        },
        "outputId": "112cd006-76ee-47c3-9ab6-1fa5def57e83"
      },
      "source": [
        "# Visualize the training history\r\n",
        "graph_training_history(history)"
      ],
      "execution_count": null,
      "outputs": [
        {
          "output_type": "display_data",
          "data": {
            "image/png": "[encoded data removed]",
            "text/plain": [
              "<Figure size 432x288 with 1 Axes>"
            ]
          },
          "metadata": {
            "tags": [],
            "needs_background": "light"
          }
        },
        {
          "output_type": "display_data",
          "data": {
            "image/png": "[encoded data removed]",
            "text/plain": [
              "<Figure size 432x288 with 1 Axes>"
            ]
          },
          "metadata": {
            "tags": [],
            "needs_background": "light"
          }
        }
      ]
    },
    {
      "cell_type": "markdown",
      "metadata": {
        "id": "A5SIEkT95fgM"
      },
      "source": [
        "# New section"
      ]
    },
    {
      "cell_type": "code",
      "metadata": {
        "id": "5BK9sSv6szgM"
      },
      "source": [
        ""
      ],
      "execution_count": null,
      "outputs": []
    },
    {
      "cell_type": "code",
      "metadata": {
        "id": "8O-nn6hiszjW"
      },
      "source": [
        ""
      ],
      "execution_count": null,
      "outputs": []
    }
  ]
}